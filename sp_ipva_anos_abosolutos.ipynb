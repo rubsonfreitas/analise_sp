{
 "cells": [
  {
   "cell_type": "code",
   "execution_count": 2,
   "metadata": {},
   "outputs": [],
   "source": [
    "import pandas as pd\n",
    "import matplotlib.pyplot as plt"
   ]
  },
  {
   "cell_type": "code",
   "execution_count": 3,
   "metadata": {},
   "outputs": [
    {
     "name": "stdout",
     "output_type": "stream",
     "text": [
      "Index(['id_arrecadacao', 'id_uf', 'co_periodo', 'ANO2', 'MÊS',\n",
      "       'va_icms_primario', 'va_icms_secundario', 'va_icms_terciario',\n",
      "       'va_icms_terciario_atacadista', 'va_icms_terciario_varejista',\n",
      "       'va_icms_terciario_transportes', 'va_icms_terciario_comunicacao',\n",
      "       'va_icms_terciario_outros', 'va_icms_energia',\n",
      "       'va_icms_energia_secundario', 'va_icms_energia_terciario',\n",
      "       'va_icms_combustiveis', 'va_icms_combustiveis_secundario',\n",
      "       'va_icms_combustiveis_terciario', 'va_icms_divida_ativa',\n",
      "       'va_icms_outras', 'va_icms_total', 'va_outros_tributos_ipva',\n",
      "       'va_outros_tributos_itcd', 'va_outros_tributos_taxas',\n",
      "       'va_outros_tributos_outros', 'va_outros_tributos_total',\n",
      "       'va_receita_tributaria_total', 'created_at', 'updated_at', 'deleted_at',\n",
      "       'sn_pendente'],\n",
      "      dtype='object')\n"
     ]
    }
   ],
   "source": [
    "import pandas as pd\n",
    "\n",
    "# Caminho do arquivo\n",
    "file_path = 'boletim.xls'\n",
    "\n",
    "# Lendo o arquivo com o motor 'xlrd' explicitamente\n",
    "df = pd.read_excel(file_path, engine='xlrd', header=1, sheet_name=1)\n",
    "\n",
    "print(df.columns)\n",
    "\n"
   ]
  },
  {
   "cell_type": "code",
   "execution_count": 4,
   "metadata": {},
   "outputs": [],
   "source": [
    "pd.set_option('display.max_columns', None)  # Exibe todas as colunas\n",
    "pd.set_option('display.width', None)        # Ajusta a largura para evitar cortes\n",
    "#df.loc[0:10]#parece muuito útil e fácil de visualizar, as n primeira linhas de todas as colunas do dataframe\n",
    "\n"
   ]
  },
  {
   "cell_type": "code",
   "execution_count": 5,
   "metadata": {},
   "outputs": [
    {
     "data": {
      "text/html": [
       "<div>\n",
       "<style scoped>\n",
       "    .dataframe tbody tr th:only-of-type {\n",
       "        vertical-align: middle;\n",
       "    }\n",
       "\n",
       "    .dataframe tbody tr th {\n",
       "        vertical-align: top;\n",
       "    }\n",
       "\n",
       "    .dataframe thead th {\n",
       "        text-align: right;\n",
       "    }\n",
       "</style>\n",
       "<table border=\"1\" class=\"dataframe\">\n",
       "  <thead>\n",
       "    <tr style=\"text-align: right;\">\n",
       "      <th></th>\n",
       "      <th>id_arrecadacao</th>\n",
       "      <th>id_uf</th>\n",
       "      <th>co_periodo</th>\n",
       "      <th>ANO2</th>\n",
       "      <th>MÊS</th>\n",
       "      <th>va_icms_primario</th>\n",
       "      <th>va_icms_secundario</th>\n",
       "      <th>va_icms_terciario</th>\n",
       "      <th>va_icms_terciario_atacadista</th>\n",
       "      <th>va_icms_terciario_varejista</th>\n",
       "      <th>va_icms_terciario_transportes</th>\n",
       "      <th>va_icms_terciario_comunicacao</th>\n",
       "      <th>va_icms_terciario_outros</th>\n",
       "      <th>va_icms_energia</th>\n",
       "      <th>va_icms_energia_secundario</th>\n",
       "      <th>va_icms_energia_terciario</th>\n",
       "      <th>va_icms_combustiveis</th>\n",
       "      <th>va_icms_combustiveis_secundario</th>\n",
       "      <th>va_icms_combustiveis_terciario</th>\n",
       "      <th>va_icms_divida_ativa</th>\n",
       "      <th>va_icms_outras</th>\n",
       "      <th>va_icms_total</th>\n",
       "      <th>va_outros_tributos_ipva</th>\n",
       "      <th>va_outros_tributos_itcd</th>\n",
       "      <th>va_outros_tributos_taxas</th>\n",
       "      <th>va_outros_tributos_outros</th>\n",
       "      <th>va_outros_tributos_total</th>\n",
       "      <th>va_receita_tributaria_total</th>\n",
       "      <th>created_at</th>\n",
       "      <th>updated_at</th>\n",
       "      <th>deleted_at</th>\n",
       "      <th>sn_pendente</th>\n",
       "    </tr>\n",
       "  </thead>\n",
       "  <tbody>\n",
       "    <tr>\n",
       "      <th>3184</th>\n",
       "      <td>6829</td>\n",
       "      <td>GO</td>\n",
       "      <td>200610</td>\n",
       "      <td>2006</td>\n",
       "      <td>10</td>\n",
       "      <td>10127663.0</td>\n",
       "      <td>7.302267e+07</td>\n",
       "      <td>1.278142e+08</td>\n",
       "      <td>46805964.0</td>\n",
       "      <td>41359424.0</td>\n",
       "      <td>8245734.0</td>\n",
       "      <td>31063833.0</td>\n",
       "      <td>339205</td>\n",
       "      <td>53001498</td>\n",
       "      <td>52640997</td>\n",
       "      <td>360501</td>\n",
       "      <td>43897559.0</td>\n",
       "      <td>18681043</td>\n",
       "      <td>25216516.0</td>\n",
       "      <td>8020581</td>\n",
       "      <td>18765386.0</td>\n",
       "      <td>3.346495e+08</td>\n",
       "      <td>30505064.0</td>\n",
       "      <td>2565524.0</td>\n",
       "      <td>357826.0</td>\n",
       "      <td>0</td>\n",
       "      <td>3.342841e+07</td>\n",
       "      <td>3.680779e+08</td>\n",
       "      <td>NaN</td>\n",
       "      <td>NaN</td>\n",
       "      <td>NaN</td>\n",
       "      <td>False</td>\n",
       "    </tr>\n",
       "    <tr>\n",
       "      <th>583</th>\n",
       "      <td>4317</td>\n",
       "      <td>MG</td>\n",
       "      <td>199810</td>\n",
       "      <td>1998</td>\n",
       "      <td>10</td>\n",
       "      <td>3562000.0</td>\n",
       "      <td>1.733340e+08</td>\n",
       "      <td>1.410880e+08</td>\n",
       "      <td>34766000.0</td>\n",
       "      <td>47497000.0</td>\n",
       "      <td>14379000.0</td>\n",
       "      <td>42002000.0</td>\n",
       "      <td>2444000</td>\n",
       "      <td>58662000</td>\n",
       "      <td>0</td>\n",
       "      <td>0</td>\n",
       "      <td>79957000.0</td>\n",
       "      <td>65481000</td>\n",
       "      <td>14476000.0</td>\n",
       "      <td>6741862</td>\n",
       "      <td>16731000.0</td>\n",
       "      <td>4.800759e+08</td>\n",
       "      <td>4730963.0</td>\n",
       "      <td>1839954.0</td>\n",
       "      <td>10643378.0</td>\n",
       "      <td>256</td>\n",
       "      <td>1.721455e+07</td>\n",
       "      <td>4.972904e+08</td>\n",
       "      <td>NaN</td>\n",
       "      <td>NaN</td>\n",
       "      <td>NaN</td>\n",
       "      <td>False</td>\n",
       "    </tr>\n",
       "    <tr>\n",
       "      <th>7181</th>\n",
       "      <td>4561</td>\n",
       "      <td>MG</td>\n",
       "      <td>201902</td>\n",
       "      <td>2019</td>\n",
       "      <td>2</td>\n",
       "      <td>16434941.0</td>\n",
       "      <td>1.042886e+09</td>\n",
       "      <td>1.367318e+09</td>\n",
       "      <td>629352780.0</td>\n",
       "      <td>372408656.0</td>\n",
       "      <td>52793357.0</td>\n",
       "      <td>253746798.0</td>\n",
       "      <td>59016447</td>\n",
       "      <td>590868979</td>\n",
       "      <td>74611888</td>\n",
       "      <td>516257091</td>\n",
       "      <td>860548215.0</td>\n",
       "      <td>725035783</td>\n",
       "      <td>135512432.0</td>\n",
       "      <td>22002421</td>\n",
       "      <td>132577513.0</td>\n",
       "      <td>4.032636e+09</td>\n",
       "      <td>810700545.0</td>\n",
       "      <td>59540518.0</td>\n",
       "      <td>202566369.0</td>\n",
       "      <td>0</td>\n",
       "      <td>1.072807e+09</td>\n",
       "      <td>5.105444e+09</td>\n",
       "      <td>NaN</td>\n",
       "      <td>08/11/2019 17:33:43</td>\n",
       "      <td>NaN</td>\n",
       "      <td>False</td>\n",
       "    </tr>\n",
       "    <tr>\n",
       "      <th>387</th>\n",
       "      <td>2431</td>\n",
       "      <td>CE</td>\n",
       "      <td>199803</td>\n",
       "      <td>1998</td>\n",
       "      <td>3</td>\n",
       "      <td>376115.0</td>\n",
       "      <td>2.928365e+07</td>\n",
       "      <td>4.298077e+07</td>\n",
       "      <td>18337274.0</td>\n",
       "      <td>12219534.0</td>\n",
       "      <td>1791632.0</td>\n",
       "      <td>10632332.0</td>\n",
       "      <td>0</td>\n",
       "      <td>14266100</td>\n",
       "      <td>0</td>\n",
       "      <td>0</td>\n",
       "      <td>11528898.0</td>\n",
       "      <td>0</td>\n",
       "      <td>0.0</td>\n",
       "      <td>739836</td>\n",
       "      <td>1962435.0</td>\n",
       "      <td>1.011378e+08</td>\n",
       "      <td>11772458.0</td>\n",
       "      <td>197184.0</td>\n",
       "      <td>358421.0</td>\n",
       "      <td>0</td>\n",
       "      <td>1.232806e+07</td>\n",
       "      <td>1.134659e+08</td>\n",
       "      <td>NaN</td>\n",
       "      <td>NaN</td>\n",
       "      <td>NaN</td>\n",
       "      <td>False</td>\n",
       "    </tr>\n",
       "    <tr>\n",
       "      <th>3256</th>\n",
       "      <td>4416</td>\n",
       "      <td>MG</td>\n",
       "      <td>200701</td>\n",
       "      <td>2007</td>\n",
       "      <td>1</td>\n",
       "      <td>32515016.0</td>\n",
       "      <td>4.492535e+08</td>\n",
       "      <td>5.362884e+08</td>\n",
       "      <td>151832585.0</td>\n",
       "      <td>165605901.0</td>\n",
       "      <td>25955991.0</td>\n",
       "      <td>166021223.0</td>\n",
       "      <td>26872679</td>\n",
       "      <td>202281379</td>\n",
       "      <td>0</td>\n",
       "      <td>202281379</td>\n",
       "      <td>316211111.0</td>\n",
       "      <td>288697362</td>\n",
       "      <td>27513749.0</td>\n",
       "      <td>7967925</td>\n",
       "      <td>37933572.0</td>\n",
       "      <td>1.582451e+09</td>\n",
       "      <td>738682990.0</td>\n",
       "      <td>6010094.0</td>\n",
       "      <td>114278064.0</td>\n",
       "      <td>0</td>\n",
       "      <td>8.589711e+08</td>\n",
       "      <td>2.441422e+09</td>\n",
       "      <td>NaN</td>\n",
       "      <td>NaN</td>\n",
       "      <td>NaN</td>\n",
       "      <td>False</td>\n",
       "    </tr>\n",
       "    <tr>\n",
       "      <th>8318</th>\n",
       "      <td>8655</td>\n",
       "      <td>SE</td>\n",
       "      <td>202209</td>\n",
       "      <td>2022</td>\n",
       "      <td>9</td>\n",
       "      <td>28822323.0</td>\n",
       "      <td>6.655126e+07</td>\n",
       "      <td>1.715361e+08</td>\n",
       "      <td>69048078.0</td>\n",
       "      <td>47967747.0</td>\n",
       "      <td>5880234.0</td>\n",
       "      <td>8395599.0</td>\n",
       "      <td>40244424</td>\n",
       "      <td>24551726</td>\n",
       "      <td>21373529</td>\n",
       "      <td>3178197</td>\n",
       "      <td>44941970.0</td>\n",
       "      <td>43662991</td>\n",
       "      <td>1278979.0</td>\n",
       "      <td>4001742</td>\n",
       "      <td>2912859.0</td>\n",
       "      <td>3.433180e+08</td>\n",
       "      <td>29898329.0</td>\n",
       "      <td>6334903.0</td>\n",
       "      <td>1123587.0</td>\n",
       "      <td>4624268</td>\n",
       "      <td>4.198109e+07</td>\n",
       "      <td>3.852990e+08</td>\n",
       "      <td>2022-10-04 09:35:41</td>\n",
       "      <td>06/10/2022 17:23:24</td>\n",
       "      <td>NaN</td>\n",
       "      <td>False</td>\n",
       "    </tr>\n",
       "    <tr>\n",
       "      <th>3900</th>\n",
       "      <td>3366</td>\n",
       "      <td>PE</td>\n",
       "      <td>200901</td>\n",
       "      <td>2009</td>\n",
       "      <td>1</td>\n",
       "      <td>514000.0</td>\n",
       "      <td>8.809500e+07</td>\n",
       "      <td>3.263300e+08</td>\n",
       "      <td>109163000.0</td>\n",
       "      <td>120199000.0</td>\n",
       "      <td>7957000.0</td>\n",
       "      <td>74825000.0</td>\n",
       "      <td>14186000</td>\n",
       "      <td>59386000</td>\n",
       "      <td>642000</td>\n",
       "      <td>58744000</td>\n",
       "      <td>106574000.0</td>\n",
       "      <td>81000</td>\n",
       "      <td>106493000.0</td>\n",
       "      <td>1112000</td>\n",
       "      <td>2940000.0</td>\n",
       "      <td>5.849510e+08</td>\n",
       "      <td>17812000.0</td>\n",
       "      <td>681000.0</td>\n",
       "      <td>813000.0</td>\n",
       "      <td>13219000</td>\n",
       "      <td>3.252500e+07</td>\n",
       "      <td>6.174760e+08</td>\n",
       "      <td>NaN</td>\n",
       "      <td>NaN</td>\n",
       "      <td>NaN</td>\n",
       "      <td>False</td>\n",
       "    </tr>\n",
       "    <tr>\n",
       "      <th>628</th>\n",
       "      <td>1903</td>\n",
       "      <td>MA</td>\n",
       "      <td>199812</td>\n",
       "      <td>1998</td>\n",
       "      <td>12</td>\n",
       "      <td>0.0</td>\n",
       "      <td>0.000000e+00</td>\n",
       "      <td>0.000000e+00</td>\n",
       "      <td>0.0</td>\n",
       "      <td>0.0</td>\n",
       "      <td>0.0</td>\n",
       "      <td>0.0</td>\n",
       "      <td>0</td>\n",
       "      <td>0</td>\n",
       "      <td>0</td>\n",
       "      <td>0</td>\n",
       "      <td>0.0</td>\n",
       "      <td>0</td>\n",
       "      <td>0.0</td>\n",
       "      <td>0</td>\n",
       "      <td>0.0</td>\n",
       "      <td>3.690916e+07</td>\n",
       "      <td>501064.0</td>\n",
       "      <td>20957.0</td>\n",
       "      <td>747157.0</td>\n",
       "      <td>487935</td>\n",
       "      <td>1.757113e+06</td>\n",
       "      <td>3.866627e+07</td>\n",
       "      <td>NaN</td>\n",
       "      <td>NaN</td>\n",
       "      <td>NaN</td>\n",
       "      <td>False</td>\n",
       "    </tr>\n",
       "    <tr>\n",
       "      <th>5949</th>\n",
       "      <td>2637</td>\n",
       "      <td>CE</td>\n",
       "      <td>201505</td>\n",
       "      <td>2015</td>\n",
       "      <td>5</td>\n",
       "      <td>740120.0</td>\n",
       "      <td>1.394553e+08</td>\n",
       "      <td>3.260324e+08</td>\n",
       "      <td>150580837.0</td>\n",
       "      <td>104402684.0</td>\n",
       "      <td>9653057.0</td>\n",
       "      <td>61177006.0</td>\n",
       "      <td>218854</td>\n",
       "      <td>98516696</td>\n",
       "      <td>98516696</td>\n",
       "      <td>0</td>\n",
       "      <td>184529321.0</td>\n",
       "      <td>170500044</td>\n",
       "      <td>14029277.0</td>\n",
       "      <td>4047530</td>\n",
       "      <td>14523302.0</td>\n",
       "      <td>7.678447e+08</td>\n",
       "      <td>75262614.0</td>\n",
       "      <td>9635229.0</td>\n",
       "      <td>1925484.0</td>\n",
       "      <td>13680</td>\n",
       "      <td>8.683701e+07</td>\n",
       "      <td>8.546817e+08</td>\n",
       "      <td>NaN</td>\n",
       "      <td>NaN</td>\n",
       "      <td>NaN</td>\n",
       "      <td>False</td>\n",
       "    </tr>\n",
       "    <tr>\n",
       "      <th>6294</th>\n",
       "      <td>1040</td>\n",
       "      <td>RR</td>\n",
       "      <td>201606</td>\n",
       "      <td>2016</td>\n",
       "      <td>6</td>\n",
       "      <td>20833.0</td>\n",
       "      <td>1.914178e+07</td>\n",
       "      <td>2.897252e+07</td>\n",
       "      <td>11713406.0</td>\n",
       "      <td>12026278.0</td>\n",
       "      <td>248026.0</td>\n",
       "      <td>4984302.0</td>\n",
       "      <td>513</td>\n",
       "      <td>3346008</td>\n",
       "      <td>3346008</td>\n",
       "      <td>0</td>\n",
       "      <td>26873.0</td>\n",
       "      <td>0</td>\n",
       "      <td>26873.0</td>\n",
       "      <td>365172</td>\n",
       "      <td>4020378.0</td>\n",
       "      <td>5.589357e+07</td>\n",
       "      <td>4241260.0</td>\n",
       "      <td>152759.0</td>\n",
       "      <td>109743.0</td>\n",
       "      <td>6140732</td>\n",
       "      <td>1.064449e+07</td>\n",
       "      <td>6.653806e+07</td>\n",
       "      <td>NaN</td>\n",
       "      <td>NaN</td>\n",
       "      <td>NaN</td>\n",
       "      <td>False</td>\n",
       "    </tr>\n",
       "  </tbody>\n",
       "</table>\n",
       "</div>"
      ],
      "text/plain": [
       "      id_arrecadacao id_uf  co_periodo  ANO2  MÊS  va_icms_primario  \\\n",
       "3184            6829    GO      200610  2006   10        10127663.0   \n",
       "583             4317    MG      199810  1998   10         3562000.0   \n",
       "7181            4561    MG      201902  2019    2        16434941.0   \n",
       "387             2431    CE      199803  1998    3          376115.0   \n",
       "3256            4416    MG      200701  2007    1        32515016.0   \n",
       "8318            8655    SE      202209  2022    9        28822323.0   \n",
       "3900            3366    PE      200901  2009    1          514000.0   \n",
       "628             1903    MA      199812  1998   12               0.0   \n",
       "5949            2637    CE      201505  2015    5          740120.0   \n",
       "6294            1040    RR      201606  2016    6           20833.0   \n",
       "\n",
       "      va_icms_secundario  va_icms_terciario  va_icms_terciario_atacadista  \\\n",
       "3184        7.302267e+07       1.278142e+08                    46805964.0   \n",
       "583         1.733340e+08       1.410880e+08                    34766000.0   \n",
       "7181        1.042886e+09       1.367318e+09                   629352780.0   \n",
       "387         2.928365e+07       4.298077e+07                    18337274.0   \n",
       "3256        4.492535e+08       5.362884e+08                   151832585.0   \n",
       "8318        6.655126e+07       1.715361e+08                    69048078.0   \n",
       "3900        8.809500e+07       3.263300e+08                   109163000.0   \n",
       "628         0.000000e+00       0.000000e+00                           0.0   \n",
       "5949        1.394553e+08       3.260324e+08                   150580837.0   \n",
       "6294        1.914178e+07       2.897252e+07                    11713406.0   \n",
       "\n",
       "      va_icms_terciario_varejista  va_icms_terciario_transportes  \\\n",
       "3184                   41359424.0                      8245734.0   \n",
       "583                    47497000.0                     14379000.0   \n",
       "7181                  372408656.0                     52793357.0   \n",
       "387                    12219534.0                      1791632.0   \n",
       "3256                  165605901.0                     25955991.0   \n",
       "8318                   47967747.0                      5880234.0   \n",
       "3900                  120199000.0                      7957000.0   \n",
       "628                           0.0                            0.0   \n",
       "5949                  104402684.0                      9653057.0   \n",
       "6294                   12026278.0                       248026.0   \n",
       "\n",
       "      va_icms_terciario_comunicacao va_icms_terciario_outros va_icms_energia  \\\n",
       "3184                     31063833.0                   339205        53001498   \n",
       "583                      42002000.0                  2444000        58662000   \n",
       "7181                    253746798.0                 59016447       590868979   \n",
       "387                      10632332.0                        0        14266100   \n",
       "3256                    166021223.0                 26872679       202281379   \n",
       "8318                      8395599.0                 40244424        24551726   \n",
       "3900                     74825000.0                 14186000        59386000   \n",
       "628                             0.0                        0               0   \n",
       "5949                     61177006.0                   218854        98516696   \n",
       "6294                      4984302.0                      513         3346008   \n",
       "\n",
       "     va_icms_energia_secundario va_icms_energia_terciario  \\\n",
       "3184                   52640997                    360501   \n",
       "583                           0                         0   \n",
       "7181                   74611888                 516257091   \n",
       "387                           0                         0   \n",
       "3256                          0                 202281379   \n",
       "8318                   21373529                   3178197   \n",
       "3900                     642000                  58744000   \n",
       "628                           0                         0   \n",
       "5949                   98516696                         0   \n",
       "6294                    3346008                         0   \n",
       "\n",
       "      va_icms_combustiveis va_icms_combustiveis_secundario  \\\n",
       "3184            43897559.0                        18681043   \n",
       "583             79957000.0                        65481000   \n",
       "7181           860548215.0                       725035783   \n",
       "387             11528898.0                               0   \n",
       "3256           316211111.0                       288697362   \n",
       "8318            44941970.0                        43662991   \n",
       "3900           106574000.0                           81000   \n",
       "628                    0.0                               0   \n",
       "5949           184529321.0                       170500044   \n",
       "6294               26873.0                               0   \n",
       "\n",
       "      va_icms_combustiveis_terciario va_icms_divida_ativa  va_icms_outras  \\\n",
       "3184                      25216516.0              8020581      18765386.0   \n",
       "583                       14476000.0              6741862      16731000.0   \n",
       "7181                     135512432.0             22002421     132577513.0   \n",
       "387                              0.0               739836       1962435.0   \n",
       "3256                      27513749.0              7967925      37933572.0   \n",
       "8318                       1278979.0              4001742       2912859.0   \n",
       "3900                     106493000.0              1112000       2940000.0   \n",
       "628                              0.0                    0             0.0   \n",
       "5949                      14029277.0              4047530      14523302.0   \n",
       "6294                         26873.0               365172       4020378.0   \n",
       "\n",
       "      va_icms_total  va_outros_tributos_ipva  va_outros_tributos_itcd  \\\n",
       "3184   3.346495e+08               30505064.0                2565524.0   \n",
       "583    4.800759e+08                4730963.0                1839954.0   \n",
       "7181   4.032636e+09              810700545.0               59540518.0   \n",
       "387    1.011378e+08               11772458.0                 197184.0   \n",
       "3256   1.582451e+09              738682990.0                6010094.0   \n",
       "8318   3.433180e+08               29898329.0                6334903.0   \n",
       "3900   5.849510e+08               17812000.0                 681000.0   \n",
       "628    3.690916e+07                 501064.0                  20957.0   \n",
       "5949   7.678447e+08               75262614.0                9635229.0   \n",
       "6294   5.589357e+07                4241260.0                 152759.0   \n",
       "\n",
       "      va_outros_tributos_taxas va_outros_tributos_outros  \\\n",
       "3184                  357826.0                         0   \n",
       "583                 10643378.0                       256   \n",
       "7181               202566369.0                         0   \n",
       "387                   358421.0                         0   \n",
       "3256               114278064.0                         0   \n",
       "8318                 1123587.0                   4624268   \n",
       "3900                  813000.0                  13219000   \n",
       "628                   747157.0                    487935   \n",
       "5949                 1925484.0                     13680   \n",
       "6294                  109743.0                   6140732   \n",
       "\n",
       "      va_outros_tributos_total  va_receita_tributaria_total  \\\n",
       "3184              3.342841e+07                 3.680779e+08   \n",
       "583               1.721455e+07                 4.972904e+08   \n",
       "7181              1.072807e+09                 5.105444e+09   \n",
       "387               1.232806e+07                 1.134659e+08   \n",
       "3256              8.589711e+08                 2.441422e+09   \n",
       "8318              4.198109e+07                 3.852990e+08   \n",
       "3900              3.252500e+07                 6.174760e+08   \n",
       "628               1.757113e+06                 3.866627e+07   \n",
       "5949              8.683701e+07                 8.546817e+08   \n",
       "6294              1.064449e+07                 6.653806e+07   \n",
       "\n",
       "               created_at           updated_at  deleted_at  sn_pendente  \n",
       "3184                  NaN                  NaN         NaN        False  \n",
       "583                   NaN                  NaN         NaN        False  \n",
       "7181                  NaN  08/11/2019 17:33:43         NaN        False  \n",
       "387                   NaN                  NaN         NaN        False  \n",
       "3256                  NaN                  NaN         NaN        False  \n",
       "8318  2022-10-04 09:35:41  06/10/2022 17:23:24         NaN        False  \n",
       "3900                  NaN                  NaN         NaN        False  \n",
       "628                   NaN                  NaN         NaN        False  \n",
       "5949                  NaN                  NaN         NaN        False  \n",
       "6294                  NaN                  NaN         NaN        False  "
      ]
     },
     "execution_count": 5,
     "metadata": {},
     "output_type": "execute_result"
    }
   ],
   "source": [
    "df.sample(10) #amostra aleatória de 10 exemplares do dataset"
   ]
  },
  {
   "cell_type": "code",
   "execution_count": 6,
   "metadata": {},
   "outputs": [
    {
     "data": {
      "text/plain": [
       "0       False\n",
       "1       False\n",
       "2       False\n",
       "3       False\n",
       "4       False\n",
       "        ...  \n",
       "8986    False\n",
       "8987    False\n",
       "8988    False\n",
       "8989    False\n",
       "8990    False\n",
       "Name: id_uf, Length: 8991, dtype: bool"
      ]
     },
     "execution_count": 6,
     "metadata": {},
     "output_type": "execute_result"
    }
   ],
   "source": [
    "df['id_uf'] == 'SP'"
   ]
  },
  {
   "cell_type": "code",
   "execution_count": 7,
   "metadata": {},
   "outputs": [],
   "source": [
    "df_sp = df[df['id_uf'] == 'SP']\n"
   ]
  },
  {
   "cell_type": "code",
   "execution_count": 8,
   "metadata": {},
   "outputs": [
    {
     "name": "stdout",
     "output_type": "stream",
     "text": [
      "   MÊS  va_outros_tributos_ipva\n",
      "0    1             1.068343e+10\n",
      "1    2             4.091432e+09\n",
      "2    3             3.081973e+09\n",
      "3    4             2.848323e+09\n",
      "4    5             0.000000e+00\n",
      "5    6             0.000000e+00\n",
      "6    7             0.000000e+00\n",
      "7    8             0.000000e+00\n",
      "8    9             0.000000e+00\n"
     ]
    }
   ],
   "source": [
    "# Filtrar os dados de São Paulo para 2024\n",
    "df_sp_2024 = df_sp[df_sp['ANO2'] == 2024]\n",
    "\n",
    "# Obter os meses presentes em 2024\n",
    "meses_presentes_2024 = df_sp_2024['MÊS'].unique()\n",
    "\n",
    "# Filtrar os dados para os meses presentes\n",
    "df_mes_presentes = df_sp_2024[df_sp_2024['MÊS'].isin(meses_presentes_2024)]\n",
    "\n",
    "# Agrupar por mês e somar os valores de va_outros_tributos_ipva\n",
    "df_mes_presentes_agrupados = df_mes_presentes.groupby('MÊS')['va_outros_tributos_ipva'].sum().reset_index()\n",
    "\n",
    "# Exibir os valores de va_outros_tributos_ipva para os meses presentes\n",
    "print(df_mes_presentes_agrupados)\n"
   ]
  },
  {
   "cell_type": "code",
   "execution_count": 9,
   "metadata": {},
   "outputs": [],
   "source": [
    "df_ano_ipva = df_sp.groupby('ANO2')['va_outros_tributos_ipva'].sum().reset_index()\n"
   ]
  },
  {
   "cell_type": "code",
   "execution_count": 10,
   "metadata": {},
   "outputs": [
    {
     "name": "stdout",
     "output_type": "stream",
     "text": [
      "    ANO2  va_outros_tributos_ipva\n",
      "0   1997             1.931003e+09\n",
      "1   1998             2.203331e+09\n",
      "2   1999             2.121124e+09\n",
      "3   2000             2.414263e+09\n",
      "4   2001             2.882199e+09\n",
      "5   2002             3.266001e+09\n",
      "6   2003             3.475322e+09\n",
      "7   2004             3.951301e+09\n",
      "8   2005             4.657957e+09\n",
      "9   2006             5.563270e+09\n",
      "10  2007             6.699370e+09\n",
      "11  2008             7.712396e+09\n",
      "12  2009             8.862165e+09\n",
      "13  2010             9.403915e+09\n",
      "14  2011             1.053053e+10\n",
      "15  2012             1.129994e+10\n",
      "16  2013             1.241582e+10\n",
      "17  2014             1.352434e+10\n",
      "18  2015             1.452368e+10\n",
      "19  2016             1.492215e+10\n",
      "20  2017             1.528291e+10\n",
      "21  2018             1.587877e+10\n",
      "22  2019             1.688764e+10\n",
      "23  2020             1.771154e+10\n",
      "24  2021             1.853090e+10\n",
      "25  2022             2.306558e+10\n",
      "26  2023             2.831705e+10\n"
     ]
    }
   ],
   "source": [
    "# Agrupar por ano e mês, somando os valores de IPVA\n",
    "df_sp_ano_mes = df_sp.groupby(['ANO2', 'MÊS'])['va_outros_tributos_ipva'].sum().reset_index()\n",
    "\n",
    "# Identificar os anos que possuem meses ausentes\n",
    "anos_com_meses_completos = df_sp_ano_mes.groupby('ANO2')['MÊS'].count().reset_index()\n",
    "\n",
    "# Filtrar apenas os anos que possuem 12 meses\n",
    "anos_completos = anos_com_meses_completos[anos_com_meses_completos['MÊS'] == 12]['ANO2']\n",
    "\n",
    "# Agora, agrupar novamente pelos anos, mas excluindo os anos com meses ausentes\n",
    "df_ano_ipva = df_sp[df_sp['ANO2'].isin(anos_completos)].groupby('ANO2')['va_outros_tributos_ipva'].sum().reset_index()\n",
    "\n",
    "# Exibir o DataFrame com os anos completos\n",
    "print(df_ano_ipva)\n"
   ]
  },
  {
   "cell_type": "code",
   "execution_count": 11,
   "metadata": {},
   "outputs": [
    {
     "data": {
      "text/html": [
       "<div>\n",
       "<style scoped>\n",
       "    .dataframe tbody tr th:only-of-type {\n",
       "        vertical-align: middle;\n",
       "    }\n",
       "\n",
       "    .dataframe tbody tr th {\n",
       "        vertical-align: top;\n",
       "    }\n",
       "\n",
       "    .dataframe thead th {\n",
       "        text-align: right;\n",
       "    }\n",
       "</style>\n",
       "<table border=\"1\" class=\"dataframe\">\n",
       "  <thead>\n",
       "    <tr style=\"text-align: right;\">\n",
       "      <th></th>\n",
       "      <th>ANO2</th>\n",
       "      <th>va_outros_tributos_ipva</th>\n",
       "    </tr>\n",
       "  </thead>\n",
       "  <tbody>\n",
       "    <tr>\n",
       "      <th>0</th>\n",
       "      <td>1997</td>\n",
       "      <td>1.931003e+09</td>\n",
       "    </tr>\n",
       "    <tr>\n",
       "      <th>1</th>\n",
       "      <td>1998</td>\n",
       "      <td>2.203331e+09</td>\n",
       "    </tr>\n",
       "    <tr>\n",
       "      <th>2</th>\n",
       "      <td>1999</td>\n",
       "      <td>2.121124e+09</td>\n",
       "    </tr>\n",
       "    <tr>\n",
       "      <th>3</th>\n",
       "      <td>2000</td>\n",
       "      <td>2.414263e+09</td>\n",
       "    </tr>\n",
       "    <tr>\n",
       "      <th>4</th>\n",
       "      <td>2001</td>\n",
       "      <td>2.882199e+09</td>\n",
       "    </tr>\n",
       "    <tr>\n",
       "      <th>5</th>\n",
       "      <td>2002</td>\n",
       "      <td>3.266001e+09</td>\n",
       "    </tr>\n",
       "    <tr>\n",
       "      <th>6</th>\n",
       "      <td>2003</td>\n",
       "      <td>3.475322e+09</td>\n",
       "    </tr>\n",
       "    <tr>\n",
       "      <th>7</th>\n",
       "      <td>2004</td>\n",
       "      <td>3.951301e+09</td>\n",
       "    </tr>\n",
       "    <tr>\n",
       "      <th>8</th>\n",
       "      <td>2005</td>\n",
       "      <td>4.657957e+09</td>\n",
       "    </tr>\n",
       "    <tr>\n",
       "      <th>9</th>\n",
       "      <td>2006</td>\n",
       "      <td>5.563270e+09</td>\n",
       "    </tr>\n",
       "    <tr>\n",
       "      <th>10</th>\n",
       "      <td>2007</td>\n",
       "      <td>6.699370e+09</td>\n",
       "    </tr>\n",
       "    <tr>\n",
       "      <th>11</th>\n",
       "      <td>2008</td>\n",
       "      <td>7.712396e+09</td>\n",
       "    </tr>\n",
       "    <tr>\n",
       "      <th>12</th>\n",
       "      <td>2009</td>\n",
       "      <td>8.862165e+09</td>\n",
       "    </tr>\n",
       "    <tr>\n",
       "      <th>13</th>\n",
       "      <td>2010</td>\n",
       "      <td>9.403915e+09</td>\n",
       "    </tr>\n",
       "    <tr>\n",
       "      <th>14</th>\n",
       "      <td>2011</td>\n",
       "      <td>1.053053e+10</td>\n",
       "    </tr>\n",
       "    <tr>\n",
       "      <th>15</th>\n",
       "      <td>2012</td>\n",
       "      <td>1.129994e+10</td>\n",
       "    </tr>\n",
       "    <tr>\n",
       "      <th>16</th>\n",
       "      <td>2013</td>\n",
       "      <td>1.241582e+10</td>\n",
       "    </tr>\n",
       "    <tr>\n",
       "      <th>17</th>\n",
       "      <td>2014</td>\n",
       "      <td>1.352434e+10</td>\n",
       "    </tr>\n",
       "    <tr>\n",
       "      <th>18</th>\n",
       "      <td>2015</td>\n",
       "      <td>1.452368e+10</td>\n",
       "    </tr>\n",
       "    <tr>\n",
       "      <th>19</th>\n",
       "      <td>2016</td>\n",
       "      <td>1.492215e+10</td>\n",
       "    </tr>\n",
       "    <tr>\n",
       "      <th>20</th>\n",
       "      <td>2017</td>\n",
       "      <td>1.528291e+10</td>\n",
       "    </tr>\n",
       "    <tr>\n",
       "      <th>21</th>\n",
       "      <td>2018</td>\n",
       "      <td>1.587877e+10</td>\n",
       "    </tr>\n",
       "    <tr>\n",
       "      <th>22</th>\n",
       "      <td>2019</td>\n",
       "      <td>1.688764e+10</td>\n",
       "    </tr>\n",
       "    <tr>\n",
       "      <th>23</th>\n",
       "      <td>2020</td>\n",
       "      <td>1.771154e+10</td>\n",
       "    </tr>\n",
       "    <tr>\n",
       "      <th>24</th>\n",
       "      <td>2021</td>\n",
       "      <td>1.853090e+10</td>\n",
       "    </tr>\n",
       "    <tr>\n",
       "      <th>25</th>\n",
       "      <td>2022</td>\n",
       "      <td>2.306558e+10</td>\n",
       "    </tr>\n",
       "    <tr>\n",
       "      <th>26</th>\n",
       "      <td>2023</td>\n",
       "      <td>2.831705e+10</td>\n",
       "    </tr>\n",
       "  </tbody>\n",
       "</table>\n",
       "</div>"
      ],
      "text/plain": [
       "    ANO2  va_outros_tributos_ipva\n",
       "0   1997             1.931003e+09\n",
       "1   1998             2.203331e+09\n",
       "2   1999             2.121124e+09\n",
       "3   2000             2.414263e+09\n",
       "4   2001             2.882199e+09\n",
       "5   2002             3.266001e+09\n",
       "6   2003             3.475322e+09\n",
       "7   2004             3.951301e+09\n",
       "8   2005             4.657957e+09\n",
       "9   2006             5.563270e+09\n",
       "10  2007             6.699370e+09\n",
       "11  2008             7.712396e+09\n",
       "12  2009             8.862165e+09\n",
       "13  2010             9.403915e+09\n",
       "14  2011             1.053053e+10\n",
       "15  2012             1.129994e+10\n",
       "16  2013             1.241582e+10\n",
       "17  2014             1.352434e+10\n",
       "18  2015             1.452368e+10\n",
       "19  2016             1.492215e+10\n",
       "20  2017             1.528291e+10\n",
       "21  2018             1.587877e+10\n",
       "22  2019             1.688764e+10\n",
       "23  2020             1.771154e+10\n",
       "24  2021             1.853090e+10\n",
       "25  2022             2.306558e+10\n",
       "26  2023             2.831705e+10"
      ]
     },
     "execution_count": 11,
     "metadata": {},
     "output_type": "execute_result"
    }
   ],
   "source": [
    "df_ano_ipva"
   ]
  },
  {
   "cell_type": "code",
   "execution_count": null,
   "metadata": {},
   "outputs": [],
   "source": []
  },
  {
   "cell_type": "code",
   "execution_count": null,
   "metadata": {},
   "outputs": [],
   "source": []
  },
  {
   "cell_type": "code",
   "execution_count": 12,
   "metadata": {},
   "outputs": [],
   "source": [
    "df_ano_ipva['variação_anual_ipva'] = df_ano_ipva['va_outros_tributos_ipva']#.pct_change() * 100\n"
   ]
  },
  {
   "cell_type": "code",
   "execution_count": 13,
   "metadata": {},
   "outputs": [],
   "source": [
    "df_ano_ipva_clean = df_ano_ipva.dropna(subset=['variação_anual_ipva'])\n",
    "#df_ano_ipva_clean = df_ano_ipva.dropna(subset=['MÊS'])\n"
   ]
  },
  {
   "cell_type": "code",
   "execution_count": 14,
   "metadata": {},
   "outputs": [
    {
     "data": {
      "text/plain": [
       "0     1.931003e+09\n",
       "1     2.203331e+09\n",
       "2     2.121124e+09\n",
       "3     2.414263e+09\n",
       "4     2.882199e+09\n",
       "5     3.266001e+09\n",
       "6     3.475322e+09\n",
       "7     3.951301e+09\n",
       "8     4.657957e+09\n",
       "9     5.563270e+09\n",
       "10    6.699370e+09\n",
       "11    7.712396e+09\n",
       "12    8.862165e+09\n",
       "13    9.403915e+09\n",
       "14    1.053053e+10\n",
       "15    1.129994e+10\n",
       "16    1.241582e+10\n",
       "17    1.352434e+10\n",
       "18    1.452368e+10\n",
       "19    1.492215e+10\n",
       "20    1.528291e+10\n",
       "21    1.587877e+10\n",
       "22    1.688764e+10\n",
       "23    1.771154e+10\n",
       "24    1.853090e+10\n",
       "25    2.306558e+10\n",
       "26    2.831705e+10\n",
       "Name: variação_anual_ipva, dtype: float64"
      ]
     },
     "execution_count": 14,
     "metadata": {},
     "output_type": "execute_result"
    }
   ],
   "source": [
    "df_ano_ipva_clean['variação_anual_ipva']"
   ]
  },
  {
   "cell_type": "code",
   "execution_count": null,
   "metadata": {},
   "outputs": [],
   "source": []
  },
  {
   "cell_type": "code",
   "execution_count": 15,
   "metadata": {},
   "outputs": [
    {
     "name": "stdout",
     "output_type": "stream",
     "text": [
      "Projeção do IPVA para 2024: R$22,344,076,400.71\n",
      "Projeção do IPVA para 2025: R$23,204,540,936.62\n",
      "Projeção do IPVA para 2026: R$24,065,005,472.53\n"
     ]
    },
    {
     "data": {
      "image/png": "[encoded data removed]",
      "text/plain": [
       "<Figure size 1000x600 with 1 Axes>"
      ]
     },
     "metadata": {},
     "output_type": "display_data"
    }
   ],
   "source": [
    "import numpy as np\n",
    "import pandas as pd\n",
    "import matplotlib.pyplot as plt\n",
    "from sklearn.linear_model import LinearRegression\n",
    "\n",
    "# Filtrar dados do estado de São Paulo e agrupar por ano\n",
    "#df_sp = df[df['id_uf'] == 'SP']\n",
    "#df_ano_ipva = df_sp.groupby('ANO2')['va_outros_tributos_ipva'].sum().reset_index()\n",
    "\n",
    "# Excluir o ano de 2024 para não influenciar o modelo de regressão\n",
    "#df_ano_ipva = df_ano_ipva[df_ano_ipva['ANO2'] != 2024]\n",
    "\n",
    "\n",
    "\n",
    "\n",
    "# Definir variáveis para a regressão linear\n",
    "X = df_ano_ipva_clean['ANO2'].values.reshape(-1, 1)  # Anos\n",
    "y = df_ano_ipva_clean['va_outros_tributos_ipva'].values  # Valores do IPVA\n",
    "\n",
    "# Criar o modelo de regressão linear\n",
    "modelo = LinearRegression()\n",
    "\n",
    "# Ajustar o modelo\n",
    "modelo.fit(X, y)\n",
    "\n",
    "# Fazer a previsão para 2024, 2025 e 2026\n",
    "anos_futuros = np.array([2024, 2025, 2026]).reshape(-1, 1)\n",
    "previsao_futura = modelo.predict(anos_futuros)\n",
    "\n",
    "# Exibir as previsões\n",
    "for ano, valor in zip([2024, 2025, 2026], previsao_futura):\n",
    "    print(f'Projeção do IPVA para {ano}: R${valor:,.2f}')\n",
    "\n",
    "# Plotar o gráfico com os dados históricos e as previsões\n",
    "plt.figure(figsize=(10, 6))\n",
    "plt.plot(df_ano_ipva_clean['ANO2'], df_ano_ipva_clean['va_outros_tributos_ipva'], marker='o', color='g', linestyle='-', label='Valor Absoluto do IPVA (Histórico)')\n",
    "\n",
    "# Adicionar as previsões para 2024, 2025 e 2026\n",
    "plt.plot([2024, 2025, 2026], previsao_futura, marker='x', color='r', linestyle='--', label='Projeção')\n",
    "\n",
    "# Adicionar título e rótulos\n",
    "plt.title('Projeção do IPVA - Estado de São Paulo', fontsize=14)\n",
    "plt.xlabel('Ano', fontsize=12)\n",
    "plt.ylabel('Valor Absoluto do IPVA (R$)', fontsize=12)\n",
    "\n",
    "# Exibir o gráfico\n",
    "plt.grid(True)\n",
    "plt.xticks(np.append(df_ano_ipva_clean['ANO2'], [2024, 2025, 2026]), rotation=45)\n",
    "plt.legend()\n",
    "plt.tight_layout()\n",
    "plt.show()\n"
   ]
  },
  {
   "cell_type": "markdown",
   "metadata": {},
   "source": []
  },
  {
   "cell_type": "code",
   "execution_count": 22,
   "metadata": {},
   "outputs": [
    {
     "name": "stdout",
     "output_type": "stream",
     "text": [
      "    ANO2  va_outros_tributos_ipva\n",
      "0   1997             1.931003e+09\n",
      "1   1998             2.203331e+09\n",
      "2   1999             2.121124e+09\n",
      "3   2000             2.414263e+09\n",
      "4   2001             2.882199e+09\n",
      "5   2002             3.266001e+09\n",
      "6   2003             3.475322e+09\n",
      "7   2004             3.951301e+09\n",
      "8   2005             4.657957e+09\n",
      "9   2006             5.563270e+09\n",
      "10  2007             6.699370e+09\n",
      "11  2008             7.712396e+09\n",
      "12  2009             8.862165e+09\n",
      "13  2010             9.403915e+09\n",
      "14  2011             1.053053e+10\n",
      "15  2012             1.129994e+10\n",
      "16  2013             1.241582e+10\n",
      "17  2014             1.352434e+10\n",
      "18  2015             1.452368e+10\n",
      "19  2016             1.492215e+10\n",
      "20  2017             1.528291e+10\n",
      "21  2018             1.587877e+10\n",
      "22  2019             1.688764e+10\n",
      "23  2020             1.771154e+10\n",
      "24  2021             1.853090e+10\n",
      "25  2022             2.306558e+10\n",
      "26  2023             2.831705e+10\n"
     ]
    },
    {
     "data": {
      "application/vnd.plotly.v1+json": {
       "config": {
        "plotlyServerURL": "https://plot.ly"
       },
       "data": [
        {
         "cells": {
          "align": "center",
          "fill": {
           "color": "lavender"
          },
          "font": {
           "color": "black",
           "family": "Arial",
           "size": 14
          },
          "values": [
           [
            1997,
            1998,
            1999,
            2000,
            2001,
            2002,
            2003,
            2004,
            2005,
            2006,
            2007,
            2008,
            2009,
            2010,
            2011,
            2012,
            2013,
            2014,
            2015,
            2016,
            2017,
            2018,
            2019,
            2020,
            2021,
            2022,
            2023
           ],
           [
            "1.9 bi",
            "2.2 bi",
            "2.1 bi",
            "2.4 bi",
            "2.9 bi",
            "3.3 bi",
            "3.5 bi",
            "4.0 bi",
            "4.7 bi",
            "5.6 bi",
            "6.7 bi",
            "7.7 bi",
            "8.9 bi",
            "9.4 bi",
            "10.5 bi",
            "11.3 bi",
            "12.4 bi",
            "13.5 bi",
            "14.5 bi",
            "14.9 bi",
            "15.3 bi",
            "15.9 bi",
            "16.9 bi",
            "17.7 bi",
            "18.5 bi",
            "23.1 bi",
            "28.3 bi"
           ]
          ]
         },
         "header": {
          "align": "center",
          "fill": {
           "color": "paleturquoise"
          },
          "font": {
           "color": "black",
           "family": "Arial",
           "size": 14
          },
          "values": [
           "Ano da arrecadação",
           "Total anual"
          ]
         },
         "type": "table"
        }
       ],
       "layout": {
        "height": 800,
        "template": {
         "data": {
          "bar": [
           {
            "error_x": {
             "color": "#2a3f5f"
            },
            "error_y": {
             "color": "#2a3f5f"
            },
            "marker": {
             "line": {
              "color": "#E5ECF6",
              "width": 0.5
             },
             "pattern": {
              "fillmode": "overlay",
              "size": 10,
              "solidity": 0.2
             }
            },
            "type": "bar"
           }
          ],
          "barpolar": [
           {
            "marker": {
             "line": {
              "color": "#E5ECF6",
              "width": 0.5
             },
             "pattern": {
              "fillmode": "overlay",
              "size": 10,
              "solidity": 0.2
             }
            },
            "type": "barpolar"
           }
          ],
          "carpet": [
           {
            "aaxis": {
             "endlinecolor": "#2a3f5f",
             "gridcolor": "white",
             "linecolor": "white",
             "minorgridcolor": "white",
             "startlinecolor": "#2a3f5f"
            },
            "baxis": {
             "endlinecolor": "#2a3f5f",
             "gridcolor": "white",
             "linecolor": "white",
             "minorgridcolor": "white",
             "startlinecolor": "#2a3f5f"
            },
            "type": "carpet"
           }
          ],
          "choropleth": [
           {
            "colorbar": {
             "outlinewidth": 0,
             "ticks": ""
            },
            "type": "choropleth"
           }
          ],
          "contour": [
           {
            "colorbar": {
             "outlinewidth": 0,
             "ticks": ""
            },
            "colorscale": [
             [
              0,
              "#0d0887"
             ],
             [
              0.1111111111111111,
              "#46039f"
             ],
             [
              0.2222222222222222,
              "#7201a8"
             ],
             [
              0.3333333333333333,
              "#9c179e"
             ],
             [
              0.4444444444444444,
              "#bd3786"
             ],
             [
              0.5555555555555556,
              "#d8576b"
             ],
             [
              0.6666666666666666,
              "#ed7953"
             ],
             [
              0.7777777777777778,
              "#fb9f3a"
             ],
             [
              0.8888888888888888,
              "#fdca26"
             ],
             [
              1,
              "#f0f921"
             ]
            ],
            "type": "contour"
           }
          ],
          "contourcarpet": [
           {
            "colorbar": {
             "outlinewidth": 0,
             "ticks": ""
            },
            "type": "contourcarpet"
           }
          ],
          "heatmap": [
           {
            "colorbar": {
             "outlinewidth": 0,
             "ticks": ""
            },
            "colorscale": [
             [
              0,
              "#0d0887"
             ],
             [
              0.1111111111111111,
              "#46039f"
             ],
             [
              0.2222222222222222,
              "#7201a8"
             ],
             [
              0.3333333333333333,
              "#9c179e"
             ],
             [
              0.4444444444444444,
              "#bd3786"
             ],
             [
              0.5555555555555556,
              "#d8576b"
             ],
             [
              0.6666666666666666,
              "#ed7953"
             ],
             [
              0.7777777777777778,
              "#fb9f3a"
             ],
             [
              0.8888888888888888,
              "#fdca26"
             ],
             [
              1,
              "#f0f921"
             ]
            ],
            "type": "heatmap"
           }
          ],
          "heatmapgl": [
           {
            "colorbar": {
             "outlinewidth": 0,
             "ticks": ""
            },
            "colorscale": [
             [
              0,
              "#0d0887"
             ],
             [
              0.1111111111111111,
              "#46039f"
             ],
             [
              0.2222222222222222,
              "#7201a8"
             ],
             [
              0.3333333333333333,
              "#9c179e"
             ],
             [
              0.4444444444444444,
              "#bd3786"
             ],
             [
              0.5555555555555556,
              "#d8576b"
             ],
             [
              0.6666666666666666,
              "#ed7953"
             ],
             [
              0.7777777777777778,
              "#fb9f3a"
             ],
             [
              0.8888888888888888,
              "#fdca26"
             ],
             [
              1,
              "#f0f921"
             ]
            ],
            "type": "heatmapgl"
           }
          ],
          "histogram": [
           {
            "marker": {
             "pattern": {
              "fillmode": "overlay",
              "size": 10,
              "solidity": 0.2
             }
            },
            "type": "histogram"
           }
          ],
          "histogram2d": [
           {
            "colorbar": {
             "outlinewidth": 0,
             "ticks": ""
            },
            "colorscale": [
             [
              0,
              "#0d0887"
             ],
             [
              0.1111111111111111,
              "#46039f"
             ],
             [
              0.2222222222222222,
              "#7201a8"
             ],
             [
              0.3333333333333333,
              "#9c179e"
             ],
             [
              0.4444444444444444,
              "#bd3786"
             ],
             [
              0.5555555555555556,
              "#d8576b"
             ],
             [
              0.6666666666666666,
              "#ed7953"
             ],
             [
              0.7777777777777778,
              "#fb9f3a"
             ],
             [
              0.8888888888888888,
              "#fdca26"
             ],
             [
              1,
              "#f0f921"
             ]
            ],
            "type": "histogram2d"
           }
          ],
          "histogram2dcontour": [
           {
            "colorbar": {
             "outlinewidth": 0,
             "ticks": ""
            },
            "colorscale": [
             [
              0,
              "#0d0887"
             ],
             [
              0.1111111111111111,
              "#46039f"
             ],
             [
              0.2222222222222222,
              "#7201a8"
             ],
             [
              0.3333333333333333,
              "#9c179e"
             ],
             [
              0.4444444444444444,
              "#bd3786"
             ],
             [
              0.5555555555555556,
              "#d8576b"
             ],
             [
              0.6666666666666666,
              "#ed7953"
             ],
             [
              0.7777777777777778,
              "#fb9f3a"
             ],
             [
              0.8888888888888888,
              "#fdca26"
             ],
             [
              1,
              "#f0f921"
             ]
            ],
            "type": "histogram2dcontour"
           }
          ],
          "mesh3d": [
           {
            "colorbar": {
             "outlinewidth": 0,
             "ticks": ""
            },
            "type": "mesh3d"
           }
          ],
          "parcoords": [
           {
            "line": {
             "colorbar": {
              "outlinewidth": 0,
              "ticks": ""
             }
            },
            "type": "parcoords"
           }
          ],
          "pie": [
           {
            "automargin": true,
            "type": "pie"
           }
          ],
          "scatter": [
           {
            "fillpattern": {
             "fillmode": "overlay",
             "size": 10,
             "solidity": 0.2
            },
            "type": "scatter"
           }
          ],
          "scatter3d": [
           {
            "line": {
             "colorbar": {
              "outlinewidth": 0,
              "ticks": ""
             }
            },
            "marker": {
             "colorbar": {
              "outlinewidth": 0,
              "ticks": ""
             }
            },
            "type": "scatter3d"
           }
          ],
          "scattercarpet": [
           {
            "marker": {
             "colorbar": {
              "outlinewidth": 0,
              "ticks": ""
             }
            },
            "type": "scattercarpet"
           }
          ],
          "scattergeo": [
           {
            "marker": {
             "colorbar": {
              "outlinewidth": 0,
              "ticks": ""
             }
            },
            "type": "scattergeo"
           }
          ],
          "scattergl": [
           {
            "marker": {
             "colorbar": {
              "outlinewidth": 0,
              "ticks": ""
             }
            },
            "type": "scattergl"
           }
          ],
          "scattermapbox": [
           {
            "marker": {
             "colorbar": {
              "outlinewidth": 0,
              "ticks": ""
             }
            },
            "type": "scattermapbox"
           }
          ],
          "scatterpolar": [
           {
            "marker": {
             "colorbar": {
              "outlinewidth": 0,
              "ticks": ""
             }
            },
            "type": "scatterpolar"
           }
          ],
          "scatterpolargl": [
           {
            "marker": {
             "colorbar": {
              "outlinewidth": 0,
              "ticks": ""
             }
            },
            "type": "scatterpolargl"
           }
          ],
          "scatterternary": [
           {
            "marker": {
             "colorbar": {
              "outlinewidth": 0,
              "ticks": ""
             }
            },
            "type": "scatterternary"
           }
          ],
          "surface": [
           {
            "colorbar": {
             "outlinewidth": 0,
             "ticks": ""
            },
            "colorscale": [
             [
              0,
              "#0d0887"
             ],
             [
              0.1111111111111111,
              "#46039f"
             ],
             [
              0.2222222222222222,
              "#7201a8"
             ],
             [
              0.3333333333333333,
              "#9c179e"
             ],
             [
              0.4444444444444444,
              "#bd3786"
             ],
             [
              0.5555555555555556,
              "#d8576b"
             ],
             [
              0.6666666666666666,
              "#ed7953"
             ],
             [
              0.7777777777777778,
              "#fb9f3a"
             ],
             [
              0.8888888888888888,
              "#fdca26"
             ],
             [
              1,
              "#f0f921"
             ]
            ],
            "type": "surface"
           }
          ],
          "table": [
           {
            "cells": {
             "fill": {
              "color": "#EBF0F8"
             },
             "line": {
              "color": "white"
             }
            },
            "header": {
             "fill": {
              "color": "#C8D4E3"
             },
             "line": {
              "color": "white"
             }
            },
            "type": "table"
           }
          ]
         },
         "layout": {
          "annotationdefaults": {
           "arrowcolor": "#2a3f5f",
           "arrowhead": 0,
           "arrowwidth": 1
          },
          "autotypenumbers": "strict",
          "coloraxis": {
           "colorbar": {
            "outlinewidth": 0,
            "ticks": ""
           }
          },
          "colorscale": {
           "diverging": [
            [
             0,
             "#8e0152"
            ],
            [
             0.1,
             "#c51b7d"
            ],
            [
             0.2,
             "#de77ae"
            ],
            [
             0.3,
             "#f1b6da"
            ],
            [
             0.4,
             "#fde0ef"
            ],
            [
             0.5,
             "#f7f7f7"
            ],
            [
             0.6,
             "#e6f5d0"
            ],
            [
             0.7,
             "#b8e186"
            ],
            [
             0.8,
             "#7fbc41"
            ],
            [
             0.9,
             "#4d9221"
            ],
            [
             1,
             "#276419"
            ]
           ],
           "sequential": [
            [
             0,
             "#0d0887"
            ],
            [
             0.1111111111111111,
             "#46039f"
            ],
            [
             0.2222222222222222,
             "#7201a8"
            ],
            [
             0.3333333333333333,
             "#9c179e"
            ],
            [
             0.4444444444444444,
             "#bd3786"
            ],
            [
             0.5555555555555556,
             "#d8576b"
            ],
            [
             0.6666666666666666,
             "#ed7953"
            ],
            [
             0.7777777777777778,
             "#fb9f3a"
            ],
            [
             0.8888888888888888,
             "#fdca26"
            ],
            [
             1,
             "#f0f921"
            ]
           ],
           "sequentialminus": [
            [
             0,
             "#0d0887"
            ],
            [
             0.1111111111111111,
             "#46039f"
            ],
            [
             0.2222222222222222,
             "#7201a8"
            ],
            [
             0.3333333333333333,
             "#9c179e"
            ],
            [
             0.4444444444444444,
             "#bd3786"
            ],
            [
             0.5555555555555556,
             "#d8576b"
            ],
            [
             0.6666666666666666,
             "#ed7953"
            ],
            [
             0.7777777777777778,
             "#fb9f3a"
            ],
            [
             0.8888888888888888,
             "#fdca26"
            ],
            [
             1,
             "#f0f921"
            ]
           ]
          },
          "colorway": [
           "#636efa",
           "#EF553B",
           "#00cc96",
           "#ab63fa",
           "#FFA15A",
           "#19d3f3",
           "#FF6692",
           "#B6E880",
           "#FF97FF",
           "#FECB52"
          ],
          "font": {
           "color": "#2a3f5f"
          },
          "geo": {
           "bgcolor": "white",
           "lakecolor": "white",
           "landcolor": "#E5ECF6",
           "showlakes": true,
           "showland": true,
           "subunitcolor": "white"
          },
          "hoverlabel": {
           "align": "left"
          },
          "hovermode": "closest",
          "mapbox": {
           "style": "light"
          },
          "paper_bgcolor": "white",
          "plot_bgcolor": "#E5ECF6",
          "polar": {
           "angularaxis": {
            "gridcolor": "white",
            "linecolor": "white",
            "ticks": ""
           },
           "bgcolor": "#E5ECF6",
           "radialaxis": {
            "gridcolor": "white",
            "linecolor": "white",
            "ticks": ""
           }
          },
          "scene": {
           "xaxis": {
            "backgroundcolor": "#E5ECF6",
            "gridcolor": "white",
            "gridwidth": 2,
            "linecolor": "white",
            "showbackground": true,
            "ticks": "",
            "zerolinecolor": "white"
           },
           "yaxis": {
            "backgroundcolor": "#E5ECF6",
            "gridcolor": "white",
            "gridwidth": 2,
            "linecolor": "white",
            "showbackground": true,
            "ticks": "",
            "zerolinecolor": "white"
           },
           "zaxis": {
            "backgroundcolor": "#E5ECF6",
            "gridcolor": "white",
            "gridwidth": 2,
            "linecolor": "white",
            "showbackground": true,
            "ticks": "",
            "zerolinecolor": "white"
           }
          },
          "shapedefaults": {
           "line": {
            "color": "#2a3f5f"
           }
          },
          "ternary": {
           "aaxis": {
            "gridcolor": "white",
            "linecolor": "white",
            "ticks": ""
           },
           "baxis": {
            "gridcolor": "white",
            "linecolor": "white",
            "ticks": ""
           },
           "bgcolor": "#E5ECF6",
           "caxis": {
            "gridcolor": "white",
            "linecolor": "white",
            "ticks": ""
           }
          },
          "title": {
           "x": 0.05
          },
          "xaxis": {
           "automargin": true,
           "gridcolor": "white",
           "linecolor": "white",
           "ticks": "",
           "title": {
            "standoff": 15
           },
           "zerolinecolor": "white",
           "zerolinewidth": 2
          },
          "yaxis": {
           "automargin": true,
           "gridcolor": "white",
           "linecolor": "white",
           "ticks": "",
           "title": {
            "standoff": 15
           },
           "zerolinecolor": "white",
           "zerolinewidth": 2
          }
         }
        },
        "title": {
         "font": {
          "color": "black",
          "family": "Arial",
          "size": 20
         },
         "text": "Tabela de Valores de IPVA por Ano (Anos Completos)",
         "x": 0.5
        },
        "width": 1000
       }
      }
     },
     "metadata": {},
     "output_type": "display_data"
    }
   ],
   "source": [
    "import plotly.graph_objects as go\n",
    "import pandas as pd\n",
    "\n",
    "# Suponha que você já tenha o DataFrame df_sp (certifique-se de carregá-lo corretamente)\n",
    "\n",
    "# Agrupar por ano e mês, somando os valores de IPVA\n",
    "df_sp_ano_mes = df_sp.groupby(['ANO2', 'MÊS'])['va_outros_tributos_ipva'].sum().reset_index()\n",
    "\n",
    "# Identificar os anos que possuem meses ausentes\n",
    "anos_com_meses_completos = df_sp_ano_mes.groupby('ANO2')['MÊS'].count().reset_index()\n",
    "\n",
    "# Filtrar apenas os anos que possuem 12 meses\n",
    "anos_completos = anos_com_meses_completos[anos_com_meses_completos['MÊS'] == 12]['ANO2']\n",
    "\n",
    "# Agora, agrupar novamente pelos anos, mas excluindo os anos com meses ausentes\n",
    "df_ano_ipva = df_sp[df_sp['ANO2'].isin(anos_completos)].groupby('ANO2')['va_outros_tributos_ipva'].sum().reset_index()\n",
    "\n",
    "# Exibir o DataFrame com os anos completos\n",
    "print(df_ano_ipva)\n",
    "\n",
    "# Função para formatar números em \"bi\"\n",
    "def format_billion(x):\n",
    "    return f\"{x / 1e9:.1f} bi\"\n",
    "\n",
    "# Aplicar a formatação na coluna de IPVA\n",
    "df_ano_ipva['va_outros_tributos_ipva'] = df_ano_ipva['va_outros_tributos_ipva'].apply(format_billion)\n",
    "\n",
    "# Criar a tabela com Plotly\n",
    "fig = go.Figure(data=[go.Table(\n",
    "    header=dict(\n",
    "                #values=df_ano_ipva.columns,\n",
    "                values=['Ano da arrecadação','Total anual'],\n",
    "                fill_color='paleturquoise',  # Cor de fundo para o cabeçalho\n",
    "                align='center',  # Alinhamento do texto no cabeçalho\n",
    "                font=dict(color='black', size=14, family=\"Arial\")),  # Fonte do cabeçalho\n",
    "    cells=dict(values=[df_ano_ipva[col] for col in df_ano_ipva.columns],\n",
    "               fill_color='lavender',  # Cor de fundo para as células\n",
    "               align='center',  # Alinhamento do texto nas células\n",
    "               font=dict(color='black', size=14, family=\"Arial\"))  # Fonte das células\n",
    ")])\n",
    "\n",
    "# Ajustar layout da figura para garantir que a tabela caiba completamente\n",
    "fig.update_layout(\n",
    "    title=\"Tabela de Valores de IPVA por Ano (Anos Completos)\",\n",
    "    title_x=0.5,  # Centralizar o título\n",
    "    title_font=dict(size=20, family=\"Arial\", color=\"black\"),  # Título com fonte maior\n",
    "    height=800,  # Altura ajustada para comportar mais dados\n",
    "    width=1000  # Largura ajustada para acomodar as colunas\n",
    ")\n",
    "\n",
    "# Exibir a tabela\n",
    "fig.show()\n"
   ]
  }
 ],
 "metadata": {
  "kernelspec": {
   "display_name": "Python 3",
   "language": "python",
   "name": "python3"
  },
  "language_info": {
   "codemirror_mode": {
    "name": "ipython",
    "version": 3
   },
   "file_extension": ".py",
   "mimetype": "text/x-python",
   "name": "python",
   "nbconvert_exporter": "python",
   "pygments_lexer": "ipython3",
   "version": "3.8.0"
  }
 },
 "nbformat": 4,
 "nbformat_minor": 2
}
